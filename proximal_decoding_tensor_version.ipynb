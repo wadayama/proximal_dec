{
 "cells": [
  {
   "cell_type": "markdown",
   "metadata": {},
   "source": [
    "# Proximal decoding (tensor version) for LDPC-coded AWGN channel and Massive MIMO channel\n",
    "Written in Pytorch 2.0.0+cu117 (C) Lantian Wei, 2024"
   ]
  },
  {
   "cell_type": "code",
   "execution_count": 1,
   "metadata": {},
   "outputs": [
    {
     "ename": "ModuleNotFoundError",
     "evalue": "No module named 'torch'",
     "output_type": "error",
     "traceback": [
      "\u001b[0;31m---------------------------------------------------------------------------\u001b[0m",
      "\u001b[0;31mModuleNotFoundError\u001b[0m                       Traceback (most recent call last)",
      "Cell \u001b[0;32mIn[1], line 1\u001b[0m\n\u001b[0;32m----> 1\u001b[0m \u001b[38;5;28;01mimport\u001b[39;00m \u001b[38;5;21;01mtorch\u001b[39;00m\n\u001b[1;32m      2\u001b[0m \u001b[38;5;28;01mimport\u001b[39;00m \u001b[38;5;21;01mnumpy\u001b[39;00m \u001b[38;5;28;01mas\u001b[39;00m \u001b[38;5;21;01mnp\u001b[39;00m\n\u001b[1;32m      3\u001b[0m \u001b[38;5;28;01mimport\u001b[39;00m \u001b[38;5;21;01mmatplotlib\u001b[39;00m\u001b[38;5;21;01m.\u001b[39;00m\u001b[38;5;21;01mpyplot\u001b[39;00m \u001b[38;5;28;01mas\u001b[39;00m \u001b[38;5;21;01mplt\u001b[39;00m\n",
      "\u001b[0;31mModuleNotFoundError\u001b[0m: No module named 'torch'"
     ]
    }
   ],
   "source": [
    "import torch\n",
    "import numpy as np\n",
    "import matplotlib.pyplot as plt\n",
    "import sys\n",
    "\n",
    "from pyldpc import coding_matrix\n",
    "from tqdm import tqdm\n",
    "\n",
    "print(str(sys.version))\n",
    "print('pytorch version: ' + str(torch.__version__) )\n",
    "print('numpy version: ' + str(np.__version__) )\n",
    "\n",
    "FLOAT_DTYPE = torch.float64\n",
    "COMPLEX_DTYPE = torch.complex128\n",
    "\n",
    "np.random.seed(seed=2024)\n",
    "\n",
    "if torch.cuda.is_available():\n",
    "    DEVICE = 'cuda'\n",
    "else:\n",
    "    DEVICE = 'cpu'\n",
    "print(DEVICE + ' is used')"
   ]
  },
  {
   "cell_type": "markdown",
   "metadata": {},
   "source": [
    "## Tool methods"
   ]
  },
  {
   "cell_type": "code",
   "execution_count": 2,
   "metadata": {},
   "outputs": [],
   "source": [
    "def snr_to_var(snr, code_rate, mod_bit=1):\n",
    "    ''' Eb/N0 to noise variance\n",
    "    Eb = 1 / (R * BIT)\n",
    "    no_sigma2 = N0 / 2\n",
    "    '''\n",
    "    return 1 / (10 ** (snr / 10) * 2 * code_rate * mod_bit)\n",
    "\n",
    "def binaryproduct(X, Y):\n",
    "    A = X @ Y\n",
    "    return A.real % 2\n",
    "\n",
    "def read_parity_check_matrix_alist(fname):\n",
    "    f = open(fname)\n",
    "\n",
    "    # read the shape\n",
    "    line = f.readline()\n",
    "    u = line.split(' ')\n",
    "    n,m = int(u[0]),int(u[1])\n",
    "\n",
    "    # read the max column and row weights\n",
    "    line = f.readline()\n",
    "    u = line.split(' ')\n",
    "    # col_max, row_max = int(u[0]),int(u[1])\n",
    "\n",
    "    # read all column weigth\n",
    "    line = f.readline()\n",
    "    u = line.split(' ')\n",
    "    col_weight_array = np.array(u[:-1]).astype(np.int32)\n",
    "\n",
    "    # read all row weigth\n",
    "    line = f.readline()\n",
    "    u = line.split(' ')\n",
    "    # row_weight_array = np.array(u[:-1]).astype(np.int32)\n",
    "\n",
    "    # according to the column weigth array make H\n",
    "    H = np.zeros((m, n), dtype=np.int32)\n",
    "    for i in range(n):\n",
    "        line = f.readline()\n",
    "        u = line.split('\\t')\n",
    "        for j in range(col_weight_array[i]):\n",
    "            H[int(u[j])-1][i] = 1\n",
    "\n",
    "    f.close()\n",
    "    return H"
   ]
  },
  {
   "cell_type": "markdown",
   "metadata": {},
   "source": [
    "## Read parity-check matrix and construct the generator matrix"
   ]
  },
  {
   "cell_type": "code",
   "execution_count": 3,
   "metadata": {},
   "outputs": [],
   "source": [
    "H = read_parity_check_matrix_alist('204.33.484')\n",
    "Gt = coding_matrix(H)\n",
    "G = Gt.T\n",
    "m = H.shape[0]\n",
    "n = H.shape[1]"
   ]
  },
  {
   "cell_type": "markdown",
   "metadata": {},
   "source": [
    "# AWGN channel"
   ]
  },
  {
   "cell_type": "markdown",
   "metadata": {},
   "source": [
    "## Prximal decoder for LDPC-coded AWGN channel"
   ]
  },
  {
   "cell_type": "code",
   "execution_count": 4,
   "metadata": {},
   "outputs": [],
   "source": [
    "def grad_h(x, H):\n",
    "    z = torch.log(x)\n",
    "    zm = torch.log(x - 1)\n",
    "    zp = torch.log(x + 1)\n",
    "    w = torch.log((torch.exp(2 * z @ H.T) - torch.exp(z @ H.T)) @ H)\n",
    "    return 4 * torch.exp(zm+z+zp) + 2 * torch.exp(w - z)\n",
    "\n",
    "def grad_f_awgn(x, y):\n",
    "    return x - y\n",
    "\n",
    "def box_proj(x, eta=1.5):\n",
    "    x[x.real<-eta] = -eta\n",
    "    x[x.real>eta] = eta\n",
    "    return x\n",
    "\n",
    "def proximal_decoding_awgn(y, H, gamma=0.05, omega=0.05, max_itr=50):\n",
    "    TH = torch.tensor(H,dtype=COMPLEX_DTYPE).to(DEVICE)\n",
    "    Ty = torch.tensor(y,dtype=COMPLEX_DTYPE).to(DEVICE)\n",
    "    s = torch.zeros(TH.shape[1],dtype=COMPLEX_DTYPE).to(DEVICE)\n",
    "    for _ in range(max_itr):\n",
    "        r = s - omega * grad_f_awgn(s, Ty)\n",
    "        s = r - gamma * grad_h(r, TH)\n",
    "        s = box_proj(s)\n",
    "    return s"
   ]
  },
  {
   "cell_type": "markdown",
   "metadata": {},
   "source": [
    "## BP decoer"
   ]
  },
  {
   "cell_type": "code",
   "execution_count": 5,
   "metadata": {},
   "outputs": [],
   "source": [
    "def BP(LLR, H, max_itr):\n",
    "    col_weight = H.sum(axis=0)\n",
    "    row_weight = H.sum(axis=1)\n",
    "    m = H.shape[0]\n",
    "    n = H.shape[1]\n",
    "    weight_list_col = []\n",
    "    weight_list_row = []\n",
    "    for i in range(n):\n",
    "        weight_list_col.append(H[:,i].nonzero()[0])\n",
    "    for i in range(m):\n",
    "        weight_list_row.append(H[i,:].nonzero()[0])\n",
    "    weight_list_col = np.array(weight_list_col, dtype=np.int32)\n",
    "    weight_list_row = np.array(weight_list_row, dtype=np.int32)\n",
    "\n",
    "    x_hat = np.zeros(n)\n",
    "    a = np.zeros((m, n))\n",
    "    b = np.zeros((m, n))\n",
    "\n",
    "    for _ in range(max_itr):\n",
    "        for i in range(n): # variable node operation\n",
    "            s = 0.0\n",
    "            for k in range(col_weight[i]):\n",
    "                s += a[weight_list_col[i,k], i]\n",
    "            for j in range(col_weight[i]):\n",
    "                b[weight_list_col[i,j], i] = LLR[i] + s - a[weight_list_col[i,j], i]\n",
    "            x_hat[i] = s + LLR[i]\n",
    "\n",
    "        for i in range(m): # check node operation\n",
    "                prod = 1.0\n",
    "                for j in range(row_weight[i]):\n",
    "                    prod *= np.tanh(0.5 * b[i,weight_list_row[i,j]])\n",
    "                for j in range(row_weight[i]):\n",
    "                    v = prod / np.tanh(0.5 * b[i,weight_list_row[i,j]])\n",
    "                    v = min(1.0 - 1e-12, max(-1.0 + 1e-12, v))\n",
    "                    a[i,weight_list_row[i,j]] = 2.0 * np.arctanh(v)\n",
    "\n",
    "    return x_hat"
   ]
  },
  {
   "cell_type": "markdown",
   "metadata": {},
   "source": [
    "## Data generator for AWGN channel"
   ]
  },
  {
   "cell_type": "code",
   "execution_count": 6,
   "metadata": {},
   "outputs": [],
   "source": [
    "def awgn_test_data_generator(G, snr, batch_size):\n",
    "    k = G.shape[0]\n",
    "    n = G.shape[1]\n",
    "    message = np.random.randint(2,size=(batch_size, k))\n",
    "    b = binaryproduct(message, G)\n",
    "    x = (-1)**b\n",
    "    sigma2 = snr_to_var(snr, k/n, mod_bit=1) # bipolar:bit=1\n",
    "    no_std = sigma2 ** 0.5\n",
    "    return x + no_std * np.random.normal(0,1,size=(batch_size, n)), x"
   ]
  },
  {
   "cell_type": "markdown",
   "metadata": {},
   "source": [
    "## Simulation for AWGN channel"
   ]
  },
  {
   "cell_type": "markdown",
   "metadata": {},
   "source": [
    "### Proximal decoding"
   ]
  },
  {
   "cell_type": "code",
   "execution_count": 7,
   "metadata": {},
   "outputs": [
    {
     "name": "stderr",
     "output_type": "stream",
     "text": [
      "100%|██████████| 10/10 [00:05<00:00,  1.81it/s]\n",
      "100%|██████████| 10/10 [00:16<00:00,  1.61s/it]\n",
      "100%|██████████| 10/10 [00:03<00:00,  2.71it/s]\n"
     ]
    }
   ],
   "source": [
    "max_test_time = 10\n",
    "target_block_err = 500\n",
    "batch_size = 1000\n",
    "\n",
    "gamma_list = [0.01, 0.05, 0.15]\n",
    "snr_list = np.arange(1,6,0.5)\n",
    "\n",
    "ber_map = {}\n",
    "test_time_map = {}\n",
    "for gamma in gamma_list:\n",
    "    ber_log = []\n",
    "    test_time_log = []\n",
    "    stop_flag = 0\n",
    "    for snr in tqdm(snr_list):\n",
    "        err = 0\n",
    "        block_err = 0\n",
    "        for i in range(max_test_time):\n",
    "            if stop_flag == 1:\n",
    "                break\n",
    "            y,x = awgn_test_data_generator(G, snr, batch_size)\n",
    "            x_hat_soft = proximal_decoding_awgn(y, H, gamma=gamma, max_itr=100).real.cpu().numpy()\n",
    "            x_hat_hard = np.sign(x_hat_soft)\n",
    "            err += np.count_nonzero(x_hat_hard-x)\n",
    "            block_err += np.count_nonzero(np.count_nonzero(x_hat_hard-x, axis=1))\n",
    "            if block_err > target_block_err:\n",
    "                break\n",
    "        if block_err == 0:\n",
    "            stop_flag = 1\n",
    "        test_time_log.append(i+1)\n",
    "        ber_log.append(err / (n * batch_size * (i + 1)))\n",
    "    ber_map[gamma]=ber_log\n",
    "    test_time_map[gamma]=test_time_log"
   ]
  },
  {
   "cell_type": "markdown",
   "metadata": {},
   "source": [
    "### BP decoding"
   ]
  },
  {
   "cell_type": "code",
   "execution_count": 8,
   "metadata": {},
   "outputs": [
    {
     "name": "stderr",
     "output_type": "stream",
     "text": [
      "100%|██████████| 10/10 [04:54<00:00, 29.41s/it]\n"
     ]
    }
   ],
   "source": [
    "max_test_time = 1000\n",
    "target_block_err = 100\n",
    "snr_list = np.arange(1,6,0.5)\n",
    "bp_ber_log = []\n",
    "test_time_log = []\n",
    "stop_flag = 0\n",
    "for snr in tqdm(snr_list):\n",
    "    err = 0\n",
    "    block_err = 0\n",
    "    y,x = awgn_test_data_generator(G, snr, max_test_time)\n",
    "    for i in range(max_test_time):\n",
    "        if stop_flag == 1:\n",
    "                break\n",
    "        x_hat = np.sign(BP(2*y[i]/(snr_to_var(snr,0.5)), H, max_itr=30))\n",
    "        temp_err = np.count_nonzero(x_hat-x[i])\n",
    "        err += temp_err\n",
    "        if temp_err > 0:\n",
    "            block_err += 1\n",
    "        if block_err > target_block_err:\n",
    "                break\n",
    "    if block_err == 0:\n",
    "        stop_flag = 1\n",
    "    ber = err/((i+1) * n)\n",
    "    bp_ber_log.append(ber)\n",
    "    test_time_log.append(i+1)"
   ]
  },
  {
   "cell_type": "code",
   "execution_count": 9,
   "metadata": {},
   "outputs": [
    {
     "data": {
      "image/png": "[encoded data removed]",
      "text/plain": [
       "<Figure size 640x480 with 1 Axes>"
      ]
     },
     "metadata": {},
     "output_type": "display_data"
    }
   ],
   "source": [
    "for gamma in gamma_list:\n",
    "    plt.plot(snr_list, ber_map[gamma], '-o', label=\"Proximal($\\gamma=$\"+str(gamma)+\")\")\n",
    "plt.plot(snr_list, bp_ber_log, '-o', label=\"BP\")\n",
    "plt.yscale('log')\n",
    "plt.ylim(0.00007,1.1)\n",
    "plt.grid()\n",
    "plt.legend()\n",
    "plt.xlabel('SNR (dB)')\n",
    "plt.ylabel('Bit error rate')\n",
    "plt.show()"
   ]
  },
  {
   "cell_type": "markdown",
   "metadata": {},
   "source": [
    "# MIMO channel"
   ]
  },
  {
   "cell_type": "markdown",
   "metadata": {},
   "source": [
    "## Prximal decoder for LDPC-coded MIMO channel"
   ]
  },
  {
   "cell_type": "code",
   "execution_count": 10,
   "metadata": {},
   "outputs": [],
   "source": [
    "def grad_f_mimo(x, y, channel_matrix):\n",
    "    return (x @ channel_matrix.T - y) @ channel_matrix\n",
    "\n",
    "def proximal_decoding_mimo(y, H, channel_matrix, omega, gamma=0.05, max_itr=1000):\n",
    "    TH = torch.tensor(H,dtype=COMPLEX_DTYPE).to(DEVICE)\n",
    "    Ty = torch.tensor(y,dtype=COMPLEX_DTYPE).to(DEVICE)\n",
    "    TCM = torch.tensor(channel_matrix,dtype=COMPLEX_DTYPE).to(DEVICE)\n",
    "    s = torch.zeros(TH.shape[1],dtype=COMPLEX_DTYPE).to(DEVICE)\n",
    "    for _ in range(max_itr):\n",
    "        r = s - omega * grad_f_mimo(s, Ty, TCM)\n",
    "        s = r - gamma * grad_h(r, TH)\n",
    "        s = box_proj(s)\n",
    "    return s"
   ]
  },
  {
   "cell_type": "markdown",
   "metadata": {},
   "source": [
    "## MMSE detector"
   ]
  },
  {
   "cell_type": "code",
   "execution_count": 11,
   "metadata": {},
   "outputs": [],
   "source": [
    "def MMSE_detector(y, snr, channel_matrix):\n",
    "    size = channel_matrix.shape[0]\n",
    "    num_snr = 10 ** (snr / 10)\n",
    "    sigma2 = size / num_snr\n",
    "    mmse_filter = channel_matrix.T @ np.linalg.inv(channel_matrix @ channel_matrix.T+(sigma2/2)*np.eye(size))\n",
    "    return y @ mmse_filter.T"
   ]
  },
  {
   "cell_type": "markdown",
   "metadata": {},
   "source": [
    "## tanh decoder"
   ]
  },
  {
   "cell_type": "code",
   "execution_count": 12,
   "metadata": {},
   "outputs": [],
   "source": [
    "def tanh_detector(y, channel_matrix, omega, alpha=2, max_itr=50):\n",
    "    x = np.zeros((y.shape[0], H.shape[1]))\n",
    "    for i in range(max_itr):\n",
    "        # x = x - omega * H.T@(H@x - y)\n",
    "        x = x - omega * (x@channel_matrix.T-y)@channel_matrix\n",
    "        x = np.tanh(alpha*x)\n",
    "    return x\n"
   ]
  },
  {
   "cell_type": "markdown",
   "metadata": {},
   "source": [
    "## Kronecker_model"
   ]
  },
  {
   "cell_type": "code",
   "execution_count": 13,
   "metadata": {},
   "outputs": [],
   "source": [
    "def Kronecker_model(rho_tx, rho_rx, n_tx, n_rx):\n",
    "    R_rx = rho_rx**(torch.arange(n_rx).unsqueeze(1)-torch.arange(n_rx).unsqueeze(0)).abs().numpy()\n",
    "    R_tx = rho_tx**(torch.arange(n_tx).unsqueeze(1)-torch.arange(n_tx).unsqueeze(0)).abs().numpy()\n",
    "    Rx = np.linalg.cholesky(R_rx)\n",
    "    Tx = np.linalg.cholesky(R_tx)\n",
    "    A = np.sqrt(0.5) * np.random.normal(0,1,size=(n_rx,n_tx)) + 1j*np.sqrt(0.5) * np.random.normal(0,1,size=(n_rx,n_tx))\n",
    "    H = Rx @ A @ Tx.T\n",
    "    return H\n",
    "\n",
    "def paper_chennel_matrix_generator(rho, size):\n",
    "    A = Kronecker_model(rho,rho,int(size/2),int(size/2))\n",
    "    return np.block([[A.real, -A.imag],[A.imag, A.real]])"
   ]
  },
  {
   "cell_type": "markdown",
   "metadata": {},
   "source": [
    "## Data generator for MIMO channel"
   ]
  },
  {
   "cell_type": "code",
   "execution_count": 14,
   "metadata": {},
   "outputs": [],
   "source": [
    "def mimo_test_data_generator(G, snr, channel_matrix, batch_size):\n",
    "    k = G.shape[0]\n",
    "    n = G.shape[1]\n",
    "    message = np.random.randint(2,size=(batch_size, k))\n",
    "    b = binaryproduct(message, G)\n",
    "    x = (-1)**b\n",
    "    num_snr = 10 ** (snr / 10)\n",
    "    sigma2 = n / num_snr\n",
    "    no_std = np.sqrt(sigma2/2)\n",
    "    y = x @ channel_matrix.T + no_std * np.random.normal(0,1,size=(batch_size, n))\n",
    "    return y, x"
   ]
  },
  {
   "cell_type": "markdown",
   "metadata": {},
   "source": [
    "## Simulation for MIMO channel"
   ]
  },
  {
   "cell_type": "markdown",
   "metadata": {},
   "source": [
    "### Proximal decoding"
   ]
  },
  {
   "cell_type": "code",
   "execution_count": 15,
   "metadata": {},
   "outputs": [
    {
     "name": "stderr",
     "output_type": "stream",
     "text": [
      "100%|██████████| 11/11 [00:22<00:00,  2.04s/it]\n",
      "100%|██████████| 11/11 [00:24<00:00,  2.24s/it]\n"
     ]
    }
   ],
   "source": [
    "max_test_time = 20\n",
    "batch_size = 1000\n",
    "target_block_err = 200\n",
    "\n",
    "snr_list = np.arange(5,16,1)\n",
    "rho_list = [0.0, 0.4]\n",
    "\n",
    "mimo_ber_map = {}\n",
    "mimo_test_time_map = {}\n",
    "\n",
    "for rho in rho_list:\n",
    "    ber_log = []\n",
    "    test_time_log = []\n",
    "    stop_flag = 0\n",
    "    for snr in tqdm(snr_list):\n",
    "        err = 0\n",
    "        block_err = 0\n",
    "        for i in range(max_test_time):\n",
    "            if stop_flag == 1:\n",
    "                break\n",
    "            channel_matrix = paper_chennel_matrix_generator(rho, n)\n",
    "            eigv = np.linalg.eigvals(channel_matrix.T.conj()@channel_matrix)\n",
    "            omega_opt = 2 / (eigv.max()+eigv.min())\n",
    "            y,x = mimo_test_data_generator(G, snr, channel_matrix, batch_size)\n",
    "            x_hat_soft = proximal_decoding_mimo(y, H, channel_matrix, omega_opt, max_itr=50).real.cpu().numpy()\n",
    "            x_hat_hard = np.sign(x_hat_soft)\n",
    "            err += np.count_nonzero(x_hat_hard-x)\n",
    "            block_err += np.count_nonzero(np.count_nonzero(x_hat_hard-x, axis=1))\n",
    "            if block_err > target_block_err:\n",
    "                break\n",
    "        if block_err == 0:\n",
    "            stop_flag = 1\n",
    "        test_time_log.append(i+1)\n",
    "        ber_log.append(err / (n * batch_size * (i + 1)))\n",
    "    mimo_ber_map[rho]=ber_log\n",
    "    mimo_test_time_map[rho]=test_time_log"
   ]
  },
  {
   "cell_type": "markdown",
   "metadata": {},
   "source": [
    "### MMSE detection"
   ]
  },
  {
   "cell_type": "code",
   "execution_count": 16,
   "metadata": {},
   "outputs": [
    {
     "name": "stderr",
     "output_type": "stream",
     "text": [
      "100%|██████████| 11/11 [00:00<00:00, 53.46it/s]\n",
      "100%|██████████| 11/11 [00:00<00:00, 54.12it/s]\n"
     ]
    }
   ],
   "source": [
    "max_test_time = 20\n",
    "batch_size = 1000\n",
    "target_block_err = 200\n",
    "\n",
    "snr_list = np.arange(5,16,1)\n",
    "rho_list = [0.0, 0.4]\n",
    "\n",
    "mmse_mimo_ber_map = {}\n",
    "mmse_mimo_test_time_map = {}\n",
    "\n",
    "for rho in rho_list:\n",
    "    ber_log = []\n",
    "    test_time_log =[]\n",
    "    stop_flag = 0\n",
    "    for snr in tqdm(snr_list):\n",
    "        err = 0\n",
    "        block_err = 0\n",
    "        for i in range(max_test_time):\n",
    "            if stop_flag == 1:\n",
    "                break\n",
    "            channel_matrix = paper_chennel_matrix_generator(rho, n)\n",
    "            y,x = mimo_test_data_generator(G, snr, channel_matrix, batch_size)\n",
    "            x_hat_soft = MMSE_detector(y, snr, channel_matrix)\n",
    "            x_hat_hard = np.sign(x_hat_soft)\n",
    "            err += np.count_nonzero(x_hat_hard-x)\n",
    "            block_err += np.count_nonzero(np.count_nonzero(x_hat_hard-x, axis=1))\n",
    "            if block_err > target_block_err:\n",
    "                break\n",
    "        if block_err == 0:\n",
    "            stop_flag = 1\n",
    "        test_time_log.append(i+1)\n",
    "        ber_log.append(err / (n * batch_size * (i + 1)))\n",
    "    mmse_mimo_ber_map[rho]=ber_log\n",
    "    mmse_mimo_test_time_map[rho]=test_time_log"
   ]
  },
  {
   "cell_type": "markdown",
   "metadata": {},
   "source": [
    "### MMSE+BP"
   ]
  },
  {
   "cell_type": "code",
   "execution_count": 17,
   "metadata": {},
   "outputs": [
    {
     "name": "stderr",
     "output_type": "stream",
     "text": [
      "100%|██████████| 11/11 [02:45<00:00, 15.03s/it]\n",
      "100%|██████████| 11/11 [03:35<00:00, 19.58s/it]\n"
     ]
    }
   ],
   "source": [
    "max_test_time = 1000\n",
    "target_block_err = 100\n",
    "\n",
    "batch_size = 1\n",
    "snr_list = np.arange(5,16,1)\n",
    "rho_list = [0.0, 0.4]\n",
    "\n",
    "mmsebp_mimo_ber_map = {}\n",
    "mmsebp_mimo_test_time_map = {}\n",
    "\n",
    "for rho in rho_list:\n",
    "\n",
    "    ber_log = []\n",
    "    test_time_log =[]\n",
    "    stop_flag = 0\n",
    "    for snr in tqdm(snr_list):\n",
    "        err = 0\n",
    "        block_err = 0\n",
    "        for i in range(max_test_time):\n",
    "            if stop_flag == 1:\n",
    "                break\n",
    "            channel_matrix = paper_chennel_matrix_generator(rho, n)\n",
    "            y,x = mimo_test_data_generator(G, snr, channel_matrix, batch_size)\n",
    "            x_hat_mmse = MMSE_detector(y, snr, channel_matrix)[0]\n",
    "            x_hat = np.sign(BP(x_hat_mmse*5, H, max_itr=20))\n",
    "            err += np.count_nonzero(x_hat-x)\n",
    "            block_err += np.count_nonzero(np.count_nonzero(x_hat-x, axis=1))\n",
    "            if block_err > target_block_err:\n",
    "                break\n",
    "        if block_err == 0:\n",
    "            stop_flag = 1\n",
    "        test_time_log.append(i+1)\n",
    "        ber_log.append(err / (n * batch_size * (i + 1)))\n",
    "    mmsebp_mimo_ber_map[rho]=ber_log\n",
    "    mmsebp_mimo_test_time_map[rho]=test_time_log"
   ]
  },
  {
   "cell_type": "markdown",
   "metadata": {},
   "source": [
    "### tanh detection"
   ]
  },
  {
   "cell_type": "code",
   "execution_count": 18,
   "metadata": {},
   "outputs": [
    {
     "name": "stderr",
     "output_type": "stream",
     "text": [
      "100%|██████████| 11/11 [00:32<00:00,  2.92s/it]\n",
      "100%|██████████| 11/11 [00:04<00:00,  2.27it/s]\n"
     ]
    }
   ],
   "source": [
    "max_test_time = 20\n",
    "batch_size = 1000\n",
    "target_block_err = 200\n",
    "\n",
    "snr_list = np.arange(5,16,1)\n",
    "rho_list = [0.0, 0.4]\n",
    "\n",
    "tanh_mimo_ber_map = {}\n",
    "tanh_mimo_test_time_map = {}\n",
    "\n",
    "for rho in rho_list:\n",
    "    ber_log = []\n",
    "    test_time_log =[]\n",
    "    stop_flag = 0\n",
    "    for snr in tqdm(snr_list):\n",
    "        err = 0\n",
    "        block_err = 0\n",
    "        for i in range(max_test_time):\n",
    "            if stop_flag == 1:\n",
    "                break\n",
    "            channel_matrix = paper_chennel_matrix_generator(rho, n)\n",
    "            eigv = np.linalg.eigvals(channel_matrix.T.conj()@channel_matrix)\n",
    "            omega_opt = 2 / (eigv.max()+eigv.min())\n",
    "            y,x = mimo_test_data_generator(G, snr, channel_matrix, batch_size)\n",
    "            x_hat_soft = tanh_detector(y, channel_matrix, omega_opt, max_itr=50)\n",
    "            x_hat_hard = np.sign(x_hat_soft)\n",
    "            err += np.count_nonzero(x_hat_hard-x)\n",
    "            block_err += np.count_nonzero(np.count_nonzero(x_hat_hard-x, axis=1))\n",
    "            if block_err > target_block_err:\n",
    "                break\n",
    "        if block_err == 0:\n",
    "            stop_flag = 1\n",
    "        test_time_log.append(i+1)\n",
    "        ber_log.append(err / (n * batch_size * (i + 1)))\n",
    "    tanh_mimo_ber_map[rho]=ber_log\n",
    "    tanh_mimo_test_time_map[rho]=test_time_log"
   ]
  },
  {
   "cell_type": "code",
   "execution_count": 19,
   "metadata": {},
   "outputs": [
    {
     "data": {
      "image/png": "[encoded data removed]",
      "text/plain": [
       "<Figure size 640x480 with 2 Axes>"
      ]
     },
     "metadata": {},
     "output_type": "display_data"
    }
   ],
   "source": [
    "i = 0\n",
    "for rho in rho_list:\n",
    "    i += 1\n",
    "    plt.subplot(1,2,i)\n",
    "    plt.plot(snr_list, mimo_ber_map[rho], \"-o\", label='Proximal')\n",
    "    plt.plot(snr_list, tanh_mimo_ber_map[rho], \"-o\", label='Tanh detector')\n",
    "    plt.plot(snr_list, mmse_mimo_ber_map[rho], \"-o\", label='MMSE')\n",
    "    plt.plot(snr_list, mmsebp_mimo_ber_map[rho], \"-o\", label='MMSE+BP')\n",
    "    plt.yscale('log')\n",
    "    plt.ylim( 0.000015,0.2)\n",
    "    plt.xticks(np.arange(6,15,2))\n",
    "    plt.grid()\n",
    "    plt.xlabel(\"SNR (dB)\")\n",
    "    plt.title('$\\\\rho=$' + str(rho))\n",
    "plt.subplot(1,2,1)\n",
    "plt.ylabel('Bit error rate')\n",
    "plt.legend(loc=1)\n",
    "plt.show()"
   ]
  },
  {
   "cell_type": "markdown",
   "metadata": {},
   "source": [
    "# Simulated BER result"
   ]
  },
  {
   "cell_type": "code",
   "execution_count": 20,
   "metadata": {},
   "outputs": [],
   "source": [
    "def print_map(m):\n",
    "    for key in m.keys():\n",
    "        print(m[key])"
   ]
  },
  {
   "cell_type": "markdown",
   "metadata": {},
   "source": [
    "## Proximal decoding"
   ]
  },
  {
   "cell_type": "code",
   "execution_count": 21,
   "metadata": {},
   "outputs": [
    {
     "name": "stdout",
     "output_type": "stream",
     "text": [
      "Proximal decoding for AWGN channel:\n",
      "[0.09725980392156863, 0.07738725490196079, 0.05911764705882353, 0.04199019607843137, 0.029897058823529412, 0.01877450980392157, 0.01130392156862745, 0.005823529411764706, 0.002860294117647059, 0.0013709150326797386]\n",
      "[0.09518137254901961, 0.06884803921568627, 0.048901960784313726, 0.02813235294117647, 0.015794117647058823, 0.006727124183006536, 0.0028676470588235295, 0.0010602941176470588, 0.0003318627450980392, 0.00010049019607843137]\n",
      "[0.4977401960784314, 0.5006960784313725, 0.4992892156862745, 0.49827941176470586, 0.4986127450980392, 0.49962254901960784, 0.49873039215686277, 0.5008137254901961, 0.4994019607843137, 0.49866666666666665]\n",
      "Proximal decoding for MIMO channel:\n",
      "[0.028436274509803922, 0.00967156862745098, 0.0019362745098039215, 0.0003713235294117647, 5.8565531475748196e-05, 5.882352941176471e-06, 0.0, 0.0, 0.0, 0.0, 0.0]\n",
      "[0.06362254901960784, 0.031230392156862744, 0.007088235294117647, 0.0008050108932461874, 0.00013308823529411764, 9.068627450980392e-06, 0.0, 0.0, 0.0, 0.0, 0.0]\n"
     ]
    }
   ],
   "source": [
    "print(\"Proximal decoding for AWGN channel:\")\n",
    "print_map(ber_map)\n",
    "print(\"Proximal decoding for MIMO channel:\")\n",
    "print_map(mimo_ber_map)"
   ]
  },
  {
   "cell_type": "markdown",
   "metadata": {},
   "source": [
    "## others"
   ]
  },
  {
   "cell_type": "code",
   "execution_count": 22,
   "metadata": {},
   "outputs": [
    {
     "name": "stdout",
     "output_type": "stream",
     "text": [
      "BP for AWGN channel:\n",
      "[0.06350693143499438, 0.03475600766622439, 0.01700486396108831, 0.004230392156862745, 0.0016127450980392157, 0.00011764705882352942, 7.843137254901961e-05, 0.0, 0.0, 0.0]\n",
      "tanh for MIMO channel:\n",
      "[0.10952450980392157, 0.08587745098039215, 0.056808823529411766, 0.03185294117647059, 0.014602941176470588, 0.00467156862745098, 0.0010514705882352941, 0.00015305010893246188, 2.9656862745098038e-05, 6.862745098039215e-06, 2.4509803921568627e-07]\n",
      "[0.15522549019607843, 0.14215686274509803, 0.1249607843137255, 0.1149264705882353, 0.10041666666666667, 0.08589705882352941, 0.07875980392156863, 0.0637892156862745, 0.06326470588235295, 0.03892647058823529, 0.05307352941176471]\n",
      "MMSE for MIMO channel:\n",
      "[0.12168627450980392, 0.10717156862745097, 0.09172058823529412, 0.07691176470588235, 0.06469117647058824, 0.051176470588235295, 0.039799019607843135, 0.03127450980392157, 0.022799019607843137, 0.01705392156862745, 0.013122549019607844]\n",
      "[0.15218137254901962, 0.13561764705882354, 0.11756372549019607, 0.10461274509803922, 0.08894117647058823, 0.07601470588235294, 0.06270588235294118, 0.05306372549019608, 0.042779411764705885, 0.033602941176470585, 0.02376470588235294]\n",
      "MMSE+BP for MIMO channel:\n",
      "[0.05517785003448616, 0.02053296808919646, 0.007735294117647059, 0.0014754901960784314, 0.00024509803921568627, 0.0, 0.0, 0.0, 0.0, 0.0, 0.0]\n",
      "[0.11398162868751104, 0.07906615883763578, 0.04195371842430666, 0.01884737123360875, 0.007950861796331437, 0.001877450980392157, 0.00012745098039215687, 0.00013235294117647058, 0.0, 0.0, 0.0]\n"
     ]
    }
   ],
   "source": [
    "print(\"BP for AWGN channel:\")\n",
    "print(bp_ber_log)\n",
    "print(\"tanh for MIMO channel:\")\n",
    "print_map(tanh_mimo_ber_map)\n",
    "print(\"MMSE for MIMO channel:\")\n",
    "print_map(mmse_mimo_ber_map)\n",
    "print(\"MMSE+BP for MIMO channel:\")\n",
    "print_map(mmsebp_mimo_ber_map)"
   ]
  },
  {
   "cell_type": "code",
   "execution_count": null,
   "metadata": {},
   "outputs": [],
   "source": []
  }
 ],
 "metadata": {
  "kernelspec": {
   "display_name": "Python 3 (ipykernel)",
   "language": "python",
   "name": "python3"
  },
  "language_info": {
   "codemirror_mode": {
    "name": "ipython",
    "version": 3
   },
   "file_extension": ".py",
   "mimetype": "text/x-python",
   "name": "python",
   "nbconvert_exporter": "python",
   "pygments_lexer": "ipython3",
   "version": "3.8.15"
  }
 },
 "nbformat": 4,
 "nbformat_minor": 4
}
